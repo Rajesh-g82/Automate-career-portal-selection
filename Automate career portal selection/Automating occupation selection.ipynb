{
 "cells": [
  {
   "cell_type": "code",
   "execution_count": 1,
   "id": "0581e07d-e105-4ad3-8922-402f348152fa",
   "metadata": {},
   "outputs": [],
   "source": [
    "import numpy as np\n",
    "import pandas as pd\n",
    "import matplotlib.pyplot as plt\n",
    "\n",
    "from sklearn.preprocessing import StandardScaler\n",
    "from sklearn.model_selection import train_test_split\n",
    "from sklearn.linear_model import LogisticRegression\n",
    "from sklearn.feature_extraction.text import TfidfVectorizer\n",
    "from sklearn.metrics import classification_report\n",
    "\n",
    "from sklearn.metrics import accuracy_score\n",
    "\n",
    "import seaborn as sns\n",
    "sns.set()"
   ]
  },
  {
   "cell_type": "code",
   "execution_count": 2,
   "id": "e13cccd2-3a77-4d79-bb57-e41b9356d823",
   "metadata": {},
   "outputs": [
    {
     "data": {
      "text/html": [
       "<div>\n",
       "<style scoped>\n",
       "    .dataframe tbody tr th:only-of-type {\n",
       "        vertical-align: middle;\n",
       "    }\n",
       "\n",
       "    .dataframe tbody tr th {\n",
       "        vertical-align: top;\n",
       "    }\n",
       "\n",
       "    .dataframe thead th {\n",
       "        text-align: right;\n",
       "    }\n",
       "</style>\n",
       "<table border=\"1\" class=\"dataframe\">\n",
       "  <thead>\n",
       "    <tr style=\"text-align: right;\">\n",
       "      <th></th>\n",
       "      <th>MCF_ID</th>\n",
       "      <th>Job Title</th>\n",
       "      <th>Labelled SSOC</th>\n",
       "      <th>Labelled SSOC Title</th>\n",
       "    </tr>\n",
       "  </thead>\n",
       "  <tbody>\n",
       "    <tr>\n",
       "      <th>0</th>\n",
       "      <td>TJM97987719591</td>\n",
       "      <td>Admin/Receptionist</td>\n",
       "      <td>42241</td>\n",
       "      <td>Receptionist (general)</td>\n",
       "    </tr>\n",
       "    <tr>\n",
       "      <th>1</th>\n",
       "      <td>TJM97987819310</td>\n",
       "      <td>Beautician Supervisor</td>\n",
       "      <td>51421</td>\n",
       "      <td>Beautician</td>\n",
       "    </tr>\n",
       "    <tr>\n",
       "      <th>2</th>\n",
       "      <td>TJM97987859830</td>\n",
       "      <td>Senior / Quantity Surveyor (C&amp;S/Tender/Project)</td>\n",
       "      <td>21494</td>\n",
       "      <td>Quantity surveyor</td>\n",
       "    </tr>\n",
       "    <tr>\n",
       "      <th>3</th>\n",
       "      <td>TJM97987826405</td>\n",
       "      <td>Building and Construction Site Engineer</td>\n",
       "      <td>21422</td>\n",
       "      <td>Building construction engineer</td>\n",
       "    </tr>\n",
       "    <tr>\n",
       "      <th>4</th>\n",
       "      <td>TJM97987876381</td>\n",
       "      <td>Senior Software Engineer</td>\n",
       "      <td>25121</td>\n",
       "      <td>Software developer</td>\n",
       "    </tr>\n",
       "  </tbody>\n",
       "</table>\n",
       "</div>"
      ],
      "text/plain": [
       "           MCF_ID                                        Job Title  \\\n",
       "0  TJM97987719591                               Admin/Receptionist   \n",
       "1  TJM97987819310                            Beautician Supervisor   \n",
       "2  TJM97987859830  Senior / Quantity Surveyor (C&S/Tender/Project)   \n",
       "3  TJM97987826405          Building and Construction Site Engineer   \n",
       "4  TJM97987876381                         Senior Software Engineer   \n",
       "\n",
       "   Labelled SSOC             Labelled SSOC Title  \n",
       "0          42241          Receptionist (general)  \n",
       "1          51421                      Beautician  \n",
       "2          21494               Quantity surveyor  \n",
       "3          21422  Building construction engineer  \n",
       "4          25121              Software developer  "
      ]
     },
     "execution_count": 2,
     "metadata": {},
     "output_type": "execute_result"
    }
   ],
   "source": [
    "raw_data = pd.read_csv(\"C:/Users/stunn/Desktop/Assessment - Snr-Principal Data Analyst_Jan 2024 Final External v2/SectionA_Job Title with Labelled SSOC.csv\")\n",
    "raw_data.head()"
   ]
  },
  {
   "cell_type": "markdown",
   "id": "3e32684a-011b-4101-aeee-e35b363490e0",
   "metadata": {
    "jp-MarkdownHeadingCollapsed": true
   },
   "source": [
    "# Data cleaning"
   ]
  },
  {
   "cell_type": "markdown",
   "id": "ed75b4f7-9b52-4cf6-a350-054e8cf1d17d",
   "metadata": {},
   "source": [
    "## Basic info"
   ]
  },
  {
   "cell_type": "code",
   "execution_count": 5,
   "id": "b02b115f-5f6c-4417-97cd-87dddd94d7f0",
   "metadata": {},
   "outputs": [
    {
     "data": {
      "text/plain": [
       "(2359, 4)"
      ]
     },
     "execution_count": 5,
     "metadata": {},
     "output_type": "execute_result"
    }
   ],
   "source": [
    "raw_data.shape"
   ]
  },
  {
   "cell_type": "code",
   "execution_count": 6,
   "id": "04ca6370-e6f2-4ed4-935e-0f250736a663",
   "metadata": {},
   "outputs": [
    {
     "data": {
      "text/plain": [
       "MCF_ID                 0\n",
       "Job Title              0\n",
       "Labelled SSOC          0\n",
       "Labelled SSOC Title    0\n",
       "dtype: int64"
      ]
     },
     "execution_count": 6,
     "metadata": {},
     "output_type": "execute_result"
    }
   ],
   "source": [
    "raw_data.isnull().sum()"
   ]
  },
  {
   "cell_type": "code",
   "execution_count": 7,
   "id": "6e369890-cb9c-473b-9b54-d3dd7d1ced01",
   "metadata": {},
   "outputs": [
    {
     "name": "stdout",
     "output_type": "stream",
     "text": [
      "<class 'pandas.core.frame.DataFrame'>\n",
      "RangeIndex: 2359 entries, 0 to 2358\n",
      "Data columns (total 4 columns):\n",
      " #   Column               Non-Null Count  Dtype \n",
      "---  ------               --------------  ----- \n",
      " 0   MCF_ID               2359 non-null   object\n",
      " 1   Job Title            2359 non-null   object\n",
      " 2   Labelled SSOC        2359 non-null   int64 \n",
      " 3   Labelled SSOC Title  2359 non-null   object\n",
      "dtypes: int64(1), object(3)\n",
      "memory usage: 73.8+ KB\n"
     ]
    }
   ],
   "source": [
    "raw_data.info()"
   ]
  },
  {
   "cell_type": "code",
   "execution_count": 8,
   "id": "b21fd92a-3edb-48fb-8e00-443fcfc1e93a",
   "metadata": {},
   "outputs": [
    {
     "data": {
      "text/plain": [
       "MCF_ID                 2359\n",
       "Job Title              1938\n",
       "Labelled SSOC           363\n",
       "Labelled SSOC Title     363\n",
       "dtype: int64"
      ]
     },
     "execution_count": 8,
     "metadata": {},
     "output_type": "execute_result"
    }
   ],
   "source": [
    "raw_data.nunique()"
   ]
  },
  {
   "cell_type": "code",
   "execution_count": 9,
   "id": "fcc9d71e-d490-406d-b2b9-f0ddb5a27943",
   "metadata": {
    "scrolled": true
   },
   "outputs": [
    {
     "data": {
      "text/plain": [
       "0"
      ]
     },
     "execution_count": 9,
     "metadata": {},
     "output_type": "execute_result"
    }
   ],
   "source": [
    "raw_data.duplicated().sum()"
   ]
  },
  {
   "cell_type": "markdown",
   "id": "55c1da8d-0d36-47d9-97b8-573877431dbc",
   "metadata": {},
   "source": [
    "## Change datatype"
   ]
  },
  {
   "cell_type": "code",
   "execution_count": 11,
   "id": "7a265fd7-663a-4eaf-a804-dc4b6b37bbfc",
   "metadata": {},
   "outputs": [
    {
     "name": "stdout",
     "output_type": "stream",
     "text": [
      "<class 'pandas.core.frame.DataFrame'>\n",
      "RangeIndex: 2359 entries, 0 to 2358\n",
      "Data columns (total 4 columns):\n",
      " #   Column               Non-Null Count  Dtype   \n",
      "---  ------               --------------  -----   \n",
      " 0   MCF_ID               2359 non-null   object  \n",
      " 1   Job Title            2359 non-null   object  \n",
      " 2   Labelled SSOC        2359 non-null   int64   \n",
      " 3   Labelled SSOC Title  2359 non-null   category\n",
      "dtypes: category(1), int64(1), object(2)\n",
      "memory usage: 71.0+ KB\n"
     ]
    }
   ],
   "source": [
    "raw_data['Labelled SSOC Title'] = raw_data['Labelled SSOC Title'].astype('category')\n",
    "raw_data.info()"
   ]
  },
  {
   "cell_type": "markdown",
   "id": "b479c170-060c-4fc0-bfa2-b22c24a5f090",
   "metadata": {
    "jp-MarkdownHeadingCollapsed": true
   },
   "source": [
    "## Check point"
   ]
  },
  {
   "cell_type": "code",
   "execution_count": 13,
   "id": "f070d483-b334-47b3-8130-b346c68cb373",
   "metadata": {},
   "outputs": [],
   "source": [
    "df = raw_data.copy()"
   ]
  },
  {
   "cell_type": "markdown",
   "id": "8dc53971-d8dc-4d65-ba8f-406c4e2ca2d5",
   "metadata": {
    "jp-MarkdownHeadingCollapsed": true
   },
   "source": [
    "## Slice table for analysis"
   ]
  },
  {
   "cell_type": "code",
   "execution_count": 15,
   "id": "a495b569-53fb-4306-9194-1957d20bf932",
   "metadata": {},
   "outputs": [],
   "source": [
    "new_table = df[['Labelled SSOC','Labelled SSOC Title']].copy()\n",
    "new_table = new_table.drop_duplicates()"
   ]
  },
  {
   "cell_type": "markdown",
   "id": "dfad9643-4616-4b25-920d-d4dbdd5d6d34",
   "metadata": {},
   "source": [
    "# Analyze"
   ]
  },
  {
   "cell_type": "code",
   "execution_count": 17,
   "id": "3d8fdabe-b12d-4b8a-a746-2cc45463a488",
   "metadata": {},
   "outputs": [
    {
     "data": {
      "text/html": [
       "<div>\n",
       "<style scoped>\n",
       "    .dataframe tbody tr th:only-of-type {\n",
       "        vertical-align: middle;\n",
       "    }\n",
       "\n",
       "    .dataframe tbody tr th {\n",
       "        vertical-align: top;\n",
       "    }\n",
       "\n",
       "    .dataframe thead th {\n",
       "        text-align: right;\n",
       "    }\n",
       "</style>\n",
       "<table border=\"1\" class=\"dataframe\">\n",
       "  <thead>\n",
       "    <tr style=\"text-align: right;\">\n",
       "      <th></th>\n",
       "      <th>MCF_ID</th>\n",
       "      <th>Job Title</th>\n",
       "      <th>Labelled SSOC</th>\n",
       "      <th>Labelled SSOC Title</th>\n",
       "    </tr>\n",
       "  </thead>\n",
       "  <tbody>\n",
       "    <tr>\n",
       "      <th>0</th>\n",
       "      <td>TJM97987719591</td>\n",
       "      <td>Admin/Receptionist</td>\n",
       "      <td>42241</td>\n",
       "      <td>Receptionist (general)</td>\n",
       "    </tr>\n",
       "    <tr>\n",
       "      <th>1</th>\n",
       "      <td>TJM97987819310</td>\n",
       "      <td>Beautician Supervisor</td>\n",
       "      <td>51421</td>\n",
       "      <td>Beautician</td>\n",
       "    </tr>\n",
       "    <tr>\n",
       "      <th>2</th>\n",
       "      <td>TJM97987859830</td>\n",
       "      <td>Senior / Quantity Surveyor (C&amp;S/Tender/Project)</td>\n",
       "      <td>21494</td>\n",
       "      <td>Quantity surveyor</td>\n",
       "    </tr>\n",
       "    <tr>\n",
       "      <th>3</th>\n",
       "      <td>TJM97987826405</td>\n",
       "      <td>Building and Construction Site Engineer</td>\n",
       "      <td>21422</td>\n",
       "      <td>Building construction engineer</td>\n",
       "    </tr>\n",
       "    <tr>\n",
       "      <th>4</th>\n",
       "      <td>TJM97987876381</td>\n",
       "      <td>Senior Software Engineer</td>\n",
       "      <td>25121</td>\n",
       "      <td>Software developer</td>\n",
       "    </tr>\n",
       "  </tbody>\n",
       "</table>\n",
       "</div>"
      ],
      "text/plain": [
       "           MCF_ID                                        Job Title  \\\n",
       "0  TJM97987719591                               Admin/Receptionist   \n",
       "1  TJM97987819310                            Beautician Supervisor   \n",
       "2  TJM97987859830  Senior / Quantity Surveyor (C&S/Tender/Project)   \n",
       "3  TJM97987826405          Building and Construction Site Engineer   \n",
       "4  TJM97987876381                         Senior Software Engineer   \n",
       "\n",
       "   Labelled SSOC             Labelled SSOC Title  \n",
       "0          42241          Receptionist (general)  \n",
       "1          51421                      Beautician  \n",
       "2          21494               Quantity surveyor  \n",
       "3          21422  Building construction engineer  \n",
       "4          25121              Software developer  "
      ]
     },
     "execution_count": 17,
     "metadata": {},
     "output_type": "execute_result"
    }
   ],
   "source": [
    "df.head()"
   ]
  },
  {
   "cell_type": "markdown",
   "id": "8766748f-7798-448d-a409-4fe2e1ab318a",
   "metadata": {},
   "source": [
    "**Show counts of each labelled SSOC title**"
   ]
  },
  {
   "cell_type": "code",
   "execution_count": 19,
   "id": "b82ba741-7388-4786-aa55-e6cd1bfb8f2a",
   "metadata": {},
   "outputs": [
    {
     "data": {
      "text/html": [
       "<div>\n",
       "<style scoped>\n",
       "    .dataframe tbody tr th:only-of-type {\n",
       "        vertical-align: middle;\n",
       "    }\n",
       "\n",
       "    .dataframe tbody tr th {\n",
       "        vertical-align: top;\n",
       "    }\n",
       "\n",
       "    .dataframe thead th {\n",
       "        text-align: right;\n",
       "    }\n",
       "</style>\n",
       "<table border=\"1\" class=\"dataframe\">\n",
       "  <thead>\n",
       "    <tr style=\"text-align: right;\">\n",
       "      <th></th>\n",
       "      <th>Labelled SSOC Title</th>\n",
       "      <th>Count</th>\n",
       "    </tr>\n",
       "  </thead>\n",
       "  <tbody>\n",
       "    <tr>\n",
       "      <th>181</th>\n",
       "      <td>Library clerk</td>\n",
       "      <td>1</td>\n",
       "    </tr>\n",
       "    <tr>\n",
       "      <th>182</th>\n",
       "      <td>Library officer</td>\n",
       "      <td>1</td>\n",
       "    </tr>\n",
       "    <tr>\n",
       "      <th>187</th>\n",
       "      <td>Maintenance planner</td>\n",
       "      <td>1</td>\n",
       "    </tr>\n",
       "    <tr>\n",
       "      <th>188</th>\n",
       "      <td>Management consultant</td>\n",
       "      <td>1</td>\n",
       "    </tr>\n",
       "    <tr>\n",
       "      <th>194</th>\n",
       "      <td>Marine superintendent</td>\n",
       "      <td>1</td>\n",
       "    </tr>\n",
       "  </tbody>\n",
       "</table>\n",
       "</div>"
      ],
      "text/plain": [
       "       Labelled SSOC Title  Count\n",
       "181          Library clerk      1\n",
       "182        Library officer      1\n",
       "187    Maintenance planner      1\n",
       "188  Management consultant      1\n",
       "194  Marine superintendent      1"
      ]
     },
     "execution_count": 19,
     "metadata": {},
     "output_type": "execute_result"
    }
   ],
   "source": [
    "#group categories by number of times Labelled SSOC title appeared\n",
    "\n",
    "grouped = df.groupby(['Labelled SSOC Title'], observed=True)['Labelled SSOC Title'].count().rename('Count') \\\n",
    "            .reset_index().sort_values('Count', ascending=True)\n",
    "grouped.head()"
   ]
  },
  {
   "cell_type": "code",
   "execution_count": 20,
   "id": "2a9ad555-1632-423e-ae29-aedf402e112e",
   "metadata": {},
   "outputs": [
    {
     "data": {
      "text/plain": [
       "Labelled SSOC Title      0\n",
       "Count                  142\n",
       "dtype: int64"
      ]
     },
     "execution_count": 20,
     "metadata": {},
     "output_type": "execute_result"
    }
   ],
   "source": [
    "#count number of times 1 appeared\n",
    "\n",
    "count_ones = (grouped == 1).sum()\n",
    "count_ones"
   ]
  },
  {
   "cell_type": "code",
   "execution_count": 21,
   "id": "4e971589-d6a3-479e-a5c2-369ddffcec6e",
   "metadata": {},
   "outputs": [
    {
     "data": {
      "text/plain": [
       "Count\n",
       "1    142\n",
       "2     55\n",
       "3     30\n",
       "4     20\n",
       "6     15\n",
       "Name: Count, dtype: int64"
      ]
     },
     "execution_count": 21,
     "metadata": {},
     "output_type": "execute_result"
    }
   ],
   "source": [
    "#count number of times each count appeared\n",
    "\n",
    "grouped_2 = grouped.groupby(['Count'], observed=True)['Count'].count().sort_values(ascending=False)\n",
    "#pd.set_option('display.max_rows', None)  # Show all rows\n",
    "\n",
    "grouped_2.head(5)"
   ]
  },
  {
   "cell_type": "markdown",
   "id": "8d06b427-1622-4513-b4a9-6248c7508503",
   "metadata": {},
   "source": [
    "# Model"
   ]
  },
  {
   "cell_type": "code",
   "execution_count": 23,
   "id": "3025836b-14d1-499a-bd56-d9e7f6d7b1b6",
   "metadata": {},
   "outputs": [],
   "source": [
    "vectorizer = TfidfVectorizer()                             # Vectorization\n",
    "X = vectorizer.fit_transform(df['Job Title'])\n",
    "\n",
    "y = df['Labelled SSOC Title']                              #Dependent variable\n",
    "\n",
    "X_train, X_test, y_train, y_test = train_test_split(X, y, test_size=0.2, random_state=42)    #Train-test split\n",
    "\n",
    "clf = LogisticRegression()                                   #Train model\n",
    "clf.fit(X_train, y_train)\n",
    "\n",
    "y_pred = clf.predict(X_test)                               #Predict test data\n",
    "\n",
    "#print(\"Classification Report:\\n\")                         #Evaluation\n",
    "#print(classification_report(y_test, y_pred))"
   ]
  },
  {
   "cell_type": "markdown",
   "id": "9eb2879e-117c-49b9-bfc5-4b1924a839fb",
   "metadata": {},
   "source": [
    "# Prediction (test)"
   ]
  },
  {
   "cell_type": "code",
   "execution_count": 25,
   "id": "b4bd2592-de07-4658-8f66-946c1c20f2bf",
   "metadata": {},
   "outputs": [
    {
     "data": {
      "text/html": [
       "<div>\n",
       "<style scoped>\n",
       "    .dataframe tbody tr th:only-of-type {\n",
       "        vertical-align: middle;\n",
       "    }\n",
       "\n",
       "    .dataframe tbody tr th {\n",
       "        vertical-align: top;\n",
       "    }\n",
       "\n",
       "    .dataframe thead th {\n",
       "        text-align: right;\n",
       "    }\n",
       "</style>\n",
       "<table border=\"1\" class=\"dataframe\">\n",
       "  <thead>\n",
       "    <tr style=\"text-align: right;\">\n",
       "      <th></th>\n",
       "      <th>Prediction</th>\n",
       "    </tr>\n",
       "  </thead>\n",
       "  <tbody>\n",
       "    <tr>\n",
       "      <th>0</th>\n",
       "      <td>Civil engineer</td>\n",
       "    </tr>\n",
       "    <tr>\n",
       "      <th>1</th>\n",
       "      <td>Welder and flame cutter</td>\n",
       "    </tr>\n",
       "    <tr>\n",
       "      <th>2</th>\n",
       "      <td>Business development manager</td>\n",
       "    </tr>\n",
       "    <tr>\n",
       "      <th>3</th>\n",
       "      <td>Software developer</td>\n",
       "    </tr>\n",
       "    <tr>\n",
       "      <th>4</th>\n",
       "      <td>Business consultant</td>\n",
       "    </tr>\n",
       "  </tbody>\n",
       "</table>\n",
       "</div>"
      ],
      "text/plain": [
       "                     Prediction\n",
       "0                Civil engineer\n",
       "1       Welder and flame cutter\n",
       "2  Business development manager\n",
       "3            Software developer\n",
       "4           Business consultant"
      ]
     },
     "execution_count": 25,
     "metadata": {},
     "output_type": "execute_result"
    }
   ],
   "source": [
    "df_pred = pd.DataFrame(y_pred, columns=[\"Prediction\"])\n",
    "df_pred.head()"
   ]
  },
  {
   "cell_type": "code",
   "execution_count": 26,
   "id": "46b8b1f8-faeb-4d2b-8840-daed4625857f",
   "metadata": {},
   "outputs": [
    {
     "data": {
      "text/html": [
       "<div>\n",
       "<style scoped>\n",
       "    .dataframe tbody tr th:only-of-type {\n",
       "        vertical-align: middle;\n",
       "    }\n",
       "\n",
       "    .dataframe tbody tr th {\n",
       "        vertical-align: top;\n",
       "    }\n",
       "\n",
       "    .dataframe thead th {\n",
       "        text-align: right;\n",
       "    }\n",
       "</style>\n",
       "<table border=\"1\" class=\"dataframe\">\n",
       "  <thead>\n",
       "    <tr style=\"text-align: right;\">\n",
       "      <th></th>\n",
       "      <th>Labelled SSOC Title</th>\n",
       "    </tr>\n",
       "  </thead>\n",
       "  <tbody>\n",
       "    <tr>\n",
       "      <th>700</th>\n",
       "      <td>Building construction engineer</td>\n",
       "    </tr>\n",
       "    <tr>\n",
       "      <th>450</th>\n",
       "      <td>Welder and flame cutter</td>\n",
       "    </tr>\n",
       "    <tr>\n",
       "      <th>1992</th>\n",
       "      <td>Business development manager</td>\n",
       "    </tr>\n",
       "    <tr>\n",
       "      <th>1677</th>\n",
       "      <td>Software developer</td>\n",
       "    </tr>\n",
       "    <tr>\n",
       "      <th>2022</th>\n",
       "      <td>ICT sales and services professional</td>\n",
       "    </tr>\n",
       "  </tbody>\n",
       "</table>\n",
       "</div>"
      ],
      "text/plain": [
       "                      Labelled SSOC Title\n",
       "700        Building construction engineer\n",
       "450               Welder and flame cutter\n",
       "1992         Business development manager\n",
       "1677                   Software developer\n",
       "2022  ICT sales and services professional"
      ]
     },
     "execution_count": 26,
     "metadata": {},
     "output_type": "execute_result"
    }
   ],
   "source": [
    "df_y_test = pd.DataFrame(y_test, columns=[\"Labelled SSOC Title\"])\n",
    "df_y_test.head()"
   ]
  },
  {
   "cell_type": "code",
   "execution_count": 27,
   "id": "933e7611-1d24-4101-bd65-884d1ea46d77",
   "metadata": {},
   "outputs": [
    {
     "data": {
      "text/html": [
       "<div>\n",
       "<style scoped>\n",
       "    .dataframe tbody tr th:only-of-type {\n",
       "        vertical-align: middle;\n",
       "    }\n",
       "\n",
       "    .dataframe tbody tr th {\n",
       "        vertical-align: top;\n",
       "    }\n",
       "\n",
       "    .dataframe thead th {\n",
       "        text-align: right;\n",
       "    }\n",
       "</style>\n",
       "<table border=\"1\" class=\"dataframe\">\n",
       "  <thead>\n",
       "    <tr style=\"text-align: right;\">\n",
       "      <th></th>\n",
       "      <th>Labelled SSOC Title</th>\n",
       "      <th>Prediction</th>\n",
       "    </tr>\n",
       "  </thead>\n",
       "  <tbody>\n",
       "    <tr>\n",
       "      <th>0</th>\n",
       "      <td>Building construction engineer</td>\n",
       "      <td>Civil engineer</td>\n",
       "    </tr>\n",
       "    <tr>\n",
       "      <th>1</th>\n",
       "      <td>Welder and flame cutter</td>\n",
       "      <td>Welder and flame cutter</td>\n",
       "    </tr>\n",
       "    <tr>\n",
       "      <th>2</th>\n",
       "      <td>Business development manager</td>\n",
       "      <td>Business development manager</td>\n",
       "    </tr>\n",
       "    <tr>\n",
       "      <th>3</th>\n",
       "      <td>Software developer</td>\n",
       "      <td>Software developer</td>\n",
       "    </tr>\n",
       "    <tr>\n",
       "      <th>4</th>\n",
       "      <td>ICT sales and services professional</td>\n",
       "      <td>Business consultant</td>\n",
       "    </tr>\n",
       "    <tr>\n",
       "      <th>5</th>\n",
       "      <td>Hair stylist/Hairdresser</td>\n",
       "      <td>Web and mobile applications developer</td>\n",
       "    </tr>\n",
       "    <tr>\n",
       "      <th>6</th>\n",
       "      <td>Cloud specialist</td>\n",
       "      <td>Cloud specialist</td>\n",
       "    </tr>\n",
       "    <tr>\n",
       "      <th>7</th>\n",
       "      <td>Cloud specialist</td>\n",
       "      <td>Cloud specialist</td>\n",
       "    </tr>\n",
       "    <tr>\n",
       "      <th>8</th>\n",
       "      <td>Software developer</td>\n",
       "      <td>Software developer</td>\n",
       "    </tr>\n",
       "    <tr>\n",
       "      <th>9</th>\n",
       "      <td>Web and mobile applications developer</td>\n",
       "      <td>Web and mobile applications developer</td>\n",
       "    </tr>\n",
       "  </tbody>\n",
       "</table>\n",
       "</div>"
      ],
      "text/plain": [
       "                     Labelled SSOC Title  \\\n",
       "0         Building construction engineer   \n",
       "1                Welder and flame cutter   \n",
       "2           Business development manager   \n",
       "3                     Software developer   \n",
       "4    ICT sales and services professional   \n",
       "5               Hair stylist/Hairdresser   \n",
       "6                       Cloud specialist   \n",
       "7                       Cloud specialist   \n",
       "8                     Software developer   \n",
       "9  Web and mobile applications developer   \n",
       "\n",
       "                              Prediction  \n",
       "0                         Civil engineer  \n",
       "1                Welder and flame cutter  \n",
       "2           Business development manager  \n",
       "3                     Software developer  \n",
       "4                    Business consultant  \n",
       "5  Web and mobile applications developer  \n",
       "6                       Cloud specialist  \n",
       "7                       Cloud specialist  \n",
       "8                     Software developer  \n",
       "9  Web and mobile applications developer  "
      ]
     },
     "execution_count": 27,
     "metadata": {},
     "output_type": "execute_result"
    }
   ],
   "source": [
    "combined_df = pd.concat([df_y_test.reset_index(drop=True), df_pred.reset_index(drop=True)], axis=1)\n",
    "combined_df.head(10)"
   ]
  },
  {
   "cell_type": "code",
   "execution_count": 28,
   "id": "ffb52265-718b-42d2-b4e5-c0183721ad01",
   "metadata": {},
   "outputs": [
    {
     "data": {
      "text/plain": [
       "(472, 2)"
      ]
     },
     "execution_count": 28,
     "metadata": {},
     "output_type": "execute_result"
    }
   ],
   "source": [
    "combined_df.shape"
   ]
  },
  {
   "cell_type": "markdown",
   "id": "fde8cceb-2019-416d-af8e-fe1f69114bc3",
   "metadata": {},
   "source": [
    "**Count number of mismatches**"
   ]
  },
  {
   "cell_type": "code",
   "execution_count": 30,
   "id": "7c9b0d95-cb34-42ad-bb2c-7fe95f14daf5",
   "metadata": {},
   "outputs": [
    {
     "name": "stdout",
     "output_type": "stream",
     "text": [
      "Number of matches: 288\n",
      "Number of mismatches: 184\n"
     ]
    }
   ],
   "source": [
    "combined_df['match'] = combined_df['Prediction'] == combined_df['Labelled SSOC Title']\n",
    "\n",
    "# Count matches and mismatches\n",
    "num_matches = combined_df['match'].sum()\n",
    "num_mismatches = len(combined_df) - num_matches\n",
    "\n",
    "print(f\"Number of matches: {num_matches}\")\n",
    "print(f\"Number of mismatches: {num_mismatches}\")"
   ]
  },
  {
   "cell_type": "markdown",
   "id": "c0bc5978-2979-4935-a781-4c73636f5328",
   "metadata": {},
   "source": [
    "**Show rows with mismatches**"
   ]
  },
  {
   "cell_type": "code",
   "execution_count": 32,
   "id": "bdeef20f-95c1-403e-9bdb-7c9fec5a1e05",
   "metadata": {},
   "outputs": [
    {
     "data": {
      "text/html": [
       "<div>\n",
       "<style scoped>\n",
       "    .dataframe tbody tr th:only-of-type {\n",
       "        vertical-align: middle;\n",
       "    }\n",
       "\n",
       "    .dataframe tbody tr th {\n",
       "        vertical-align: top;\n",
       "    }\n",
       "\n",
       "    .dataframe thead th {\n",
       "        text-align: right;\n",
       "    }\n",
       "</style>\n",
       "<table border=\"1\" class=\"dataframe\">\n",
       "  <thead>\n",
       "    <tr style=\"text-align: right;\">\n",
       "      <th></th>\n",
       "      <th>Labelled SSOC Title</th>\n",
       "      <th>Prediction</th>\n",
       "      <th>match</th>\n",
       "    </tr>\n",
       "  </thead>\n",
       "  <tbody>\n",
       "    <tr>\n",
       "      <th>0</th>\n",
       "      <td>Building construction engineer</td>\n",
       "      <td>Civil engineer</td>\n",
       "      <td>False</td>\n",
       "    </tr>\n",
       "    <tr>\n",
       "      <th>4</th>\n",
       "      <td>ICT sales and services professional</td>\n",
       "      <td>Business consultant</td>\n",
       "      <td>False</td>\n",
       "    </tr>\n",
       "    <tr>\n",
       "      <th>5</th>\n",
       "      <td>Hair stylist/Hairdresser</td>\n",
       "      <td>Web and mobile applications developer</td>\n",
       "      <td>False</td>\n",
       "    </tr>\n",
       "    <tr>\n",
       "      <th>12</th>\n",
       "      <td>Floor/Wall tiler</td>\n",
       "      <td>Web and mobile applications developer</td>\n",
       "      <td>False</td>\n",
       "    </tr>\n",
       "    <tr>\n",
       "      <th>17</th>\n",
       "      <td>Healthcare assistant (e.g. therapy aide/assist...</td>\n",
       "      <td>Warehouse worker</td>\n",
       "      <td>False</td>\n",
       "    </tr>\n",
       "  </tbody>\n",
       "</table>\n",
       "</div>"
      ],
      "text/plain": [
       "                                  Labelled SSOC Title  \\\n",
       "0                      Building construction engineer   \n",
       "4                 ICT sales and services professional   \n",
       "5                            Hair stylist/Hairdresser   \n",
       "12                                   Floor/Wall tiler   \n",
       "17  Healthcare assistant (e.g. therapy aide/assist...   \n",
       "\n",
       "                               Prediction  match  \n",
       "0                          Civil engineer  False  \n",
       "4                     Business consultant  False  \n",
       "5   Web and mobile applications developer  False  \n",
       "12  Web and mobile applications developer  False  \n",
       "17                       Warehouse worker  False  "
      ]
     },
     "execution_count": 32,
     "metadata": {},
     "output_type": "execute_result"
    }
   ],
   "source": [
    "mismatches = combined_df[combined_df['Prediction'] != combined_df['Labelled SSOC Title']]\n",
    "mismatches.head()"
   ]
  },
  {
   "cell_type": "markdown",
   "id": "6b8c1f64-565f-442c-82ee-d086bc2e36b8",
   "metadata": {},
   "source": [
    "**Mismatched group counts > 10**"
   ]
  },
  {
   "cell_type": "code",
   "execution_count": 34,
   "id": "bcab2f73-e5cf-46b6-ab94-ca455eeb7b93",
   "metadata": {},
   "outputs": [
    {
     "data": {
      "text/html": [
       "<div>\n",
       "<style scoped>\n",
       "    .dataframe tbody tr th:only-of-type {\n",
       "        vertical-align: middle;\n",
       "    }\n",
       "\n",
       "    .dataframe tbody tr th {\n",
       "        vertical-align: top;\n",
       "    }\n",
       "\n",
       "    .dataframe thead th {\n",
       "        text-align: right;\n",
       "    }\n",
       "</style>\n",
       "<table border=\"1\" class=\"dataframe\">\n",
       "  <thead>\n",
       "    <tr style=\"text-align: right;\">\n",
       "      <th></th>\n",
       "      <th>Prediction</th>\n",
       "      <th>count</th>\n",
       "    </tr>\n",
       "  </thead>\n",
       "  <tbody>\n",
       "    <tr>\n",
       "      <th>70</th>\n",
       "      <td>Web and mobile applications developer</td>\n",
       "      <td>67</td>\n",
       "    </tr>\n",
       "    <tr>\n",
       "      <th>66</th>\n",
       "      <td>Software developer</td>\n",
       "      <td>51</td>\n",
       "    </tr>\n",
       "    <tr>\n",
       "      <th>6</th>\n",
       "      <td>Business consultant</td>\n",
       "      <td>26</td>\n",
       "    </tr>\n",
       "    <tr>\n",
       "      <th>46</th>\n",
       "      <td>Marketing manager</td>\n",
       "      <td>25</td>\n",
       "    </tr>\n",
       "    <tr>\n",
       "      <th>51</th>\n",
       "      <td>Other car and light goods vehicle drivers</td>\n",
       "      <td>21</td>\n",
       "    </tr>\n",
       "    <tr>\n",
       "      <th>69</th>\n",
       "      <td>Warehouse worker</td>\n",
       "      <td>20</td>\n",
       "    </tr>\n",
       "    <tr>\n",
       "      <th>7</th>\n",
       "      <td>Business development executive</td>\n",
       "      <td>18</td>\n",
       "    </tr>\n",
       "    <tr>\n",
       "      <th>68</th>\n",
       "      <td>Waiter</td>\n",
       "      <td>15</td>\n",
       "    </tr>\n",
       "    <tr>\n",
       "      <th>57</th>\n",
       "      <td>Quantity surveyor</td>\n",
       "      <td>14</td>\n",
       "    </tr>\n",
       "  </tbody>\n",
       "</table>\n",
       "</div>"
      ],
      "text/plain": [
       "                                   Prediction  count\n",
       "70      Web and mobile applications developer     67\n",
       "66                         Software developer     51\n",
       "6                         Business consultant     26\n",
       "46                          Marketing manager     25\n",
       "51  Other car and light goods vehicle drivers     21\n",
       "69                           Warehouse worker     20\n",
       "7              Business development executive     18\n",
       "68                                     Waiter     15\n",
       "57                          Quantity surveyor     14"
      ]
     },
     "execution_count": 34,
     "metadata": {},
     "output_type": "execute_result"
    }
   ],
   "source": [
    "prediction_counts = combined_df.groupby('Prediction').size().reset_index(name='count')\n",
    "\n",
    "filtered_predictions = prediction_counts[prediction_counts['count'] > 10]              #more than 10 in group\n",
    "filtered_predictions = filtered_predictions.sort_values(by='count', ascending=False)   #sort by descending count\n",
    "\n",
    "filtered_predictions"
   ]
  },
  {
   "cell_type": "markdown",
   "id": "866c37aa-b5b3-4c24-af48-6fc94a947dfc",
   "metadata": {
    "jp-MarkdownHeadingCollapsed": true
   },
   "source": [
    "# Prediction (train)"
   ]
  },
  {
   "cell_type": "code",
   "execution_count": 36,
   "id": "295368ba-477a-441f-a795-734b4184a24f",
   "metadata": {},
   "outputs": [],
   "source": [
    "X_train_pred = clf.predict(X_train)"
   ]
  },
  {
   "cell_type": "code",
   "execution_count": 37,
   "id": "7158b517-b32a-4d4a-9669-17c983f48cdc",
   "metadata": {},
   "outputs": [
    {
     "data": {
      "text/html": [
       "<div>\n",
       "<style scoped>\n",
       "    .dataframe tbody tr th:only-of-type {\n",
       "        vertical-align: middle;\n",
       "    }\n",
       "\n",
       "    .dataframe tbody tr th {\n",
       "        vertical-align: top;\n",
       "    }\n",
       "\n",
       "    .dataframe thead th {\n",
       "        text-align: right;\n",
       "    }\n",
       "</style>\n",
       "<table border=\"1\" class=\"dataframe\">\n",
       "  <thead>\n",
       "    <tr style=\"text-align: right;\">\n",
       "      <th></th>\n",
       "      <th>Prediction</th>\n",
       "    </tr>\n",
       "  </thead>\n",
       "  <tbody>\n",
       "    <tr>\n",
       "      <th>0</th>\n",
       "      <td>Retail manager</td>\n",
       "    </tr>\n",
       "    <tr>\n",
       "      <th>1</th>\n",
       "      <td>Software developer</td>\n",
       "    </tr>\n",
       "    <tr>\n",
       "      <th>2</th>\n",
       "      <td>Marketing manager</td>\n",
       "    </tr>\n",
       "    <tr>\n",
       "      <th>3</th>\n",
       "      <td>Administration manager</td>\n",
       "    </tr>\n",
       "    <tr>\n",
       "      <th>4</th>\n",
       "      <td>IT support technician (including IT user helpd...</td>\n",
       "    </tr>\n",
       "  </tbody>\n",
       "</table>\n",
       "</div>"
      ],
      "text/plain": [
       "                                          Prediction\n",
       "0                                     Retail manager\n",
       "1                                 Software developer\n",
       "2                                  Marketing manager\n",
       "3                             Administration manager\n",
       "4  IT support technician (including IT user helpd..."
      ]
     },
     "execution_count": 37,
     "metadata": {},
     "output_type": "execute_result"
    }
   ],
   "source": [
    "df_pred_train = pd.DataFrame(X_train_pred, columns=[\"Prediction\"])\n",
    "df_pred_train.head()"
   ]
  },
  {
   "cell_type": "code",
   "execution_count": 38,
   "id": "af91a8e9-3ca3-4278-9b96-112b270540c8",
   "metadata": {},
   "outputs": [
    {
     "data": {
      "text/html": [
       "<div>\n",
       "<style scoped>\n",
       "    .dataframe tbody tr th:only-of-type {\n",
       "        vertical-align: middle;\n",
       "    }\n",
       "\n",
       "    .dataframe tbody tr th {\n",
       "        vertical-align: top;\n",
       "    }\n",
       "\n",
       "    .dataframe thead th {\n",
       "        text-align: right;\n",
       "    }\n",
       "</style>\n",
       "<table border=\"1\" class=\"dataframe\">\n",
       "  <thead>\n",
       "    <tr style=\"text-align: right;\">\n",
       "      <th></th>\n",
       "      <th>Labelled SSOC Title</th>\n",
       "    </tr>\n",
       "  </thead>\n",
       "  <tbody>\n",
       "    <tr>\n",
       "      <th>1064</th>\n",
       "      <td>Retail manager</td>\n",
       "    </tr>\n",
       "    <tr>\n",
       "      <th>1377</th>\n",
       "      <td>Software developer</td>\n",
       "    </tr>\n",
       "    <tr>\n",
       "      <th>478</th>\n",
       "      <td>Occupational health and safety inspector</td>\n",
       "    </tr>\n",
       "    <tr>\n",
       "      <th>1911</th>\n",
       "      <td>Administration manager</td>\n",
       "    </tr>\n",
       "    <tr>\n",
       "      <th>744</th>\n",
       "      <td>IT support technician (including IT user helpd...</td>\n",
       "    </tr>\n",
       "  </tbody>\n",
       "</table>\n",
       "</div>"
      ],
      "text/plain": [
       "                                    Labelled SSOC Title\n",
       "1064                                     Retail manager\n",
       "1377                                 Software developer\n",
       "478            Occupational health and safety inspector\n",
       "1911                             Administration manager\n",
       "744   IT support technician (including IT user helpd..."
      ]
     },
     "execution_count": 38,
     "metadata": {},
     "output_type": "execute_result"
    }
   ],
   "source": [
    "df_y_train = pd.DataFrame(y_train, columns=[\"Labelled SSOC Title\"])\n",
    "df_y_train.head()"
   ]
  },
  {
   "cell_type": "code",
   "execution_count": 39,
   "id": "f876a248-37cd-4a00-9928-9aca9a859182",
   "metadata": {},
   "outputs": [
    {
     "data": {
      "text/html": [
       "<div>\n",
       "<style scoped>\n",
       "    .dataframe tbody tr th:only-of-type {\n",
       "        vertical-align: middle;\n",
       "    }\n",
       "\n",
       "    .dataframe tbody tr th {\n",
       "        vertical-align: top;\n",
       "    }\n",
       "\n",
       "    .dataframe thead th {\n",
       "        text-align: right;\n",
       "    }\n",
       "</style>\n",
       "<table border=\"1\" class=\"dataframe\">\n",
       "  <thead>\n",
       "    <tr style=\"text-align: right;\">\n",
       "      <th></th>\n",
       "      <th>Labelled SSOC Title</th>\n",
       "      <th>Prediction</th>\n",
       "    </tr>\n",
       "  </thead>\n",
       "  <tbody>\n",
       "    <tr>\n",
       "      <th>0</th>\n",
       "      <td>Retail manager</td>\n",
       "      <td>Retail manager</td>\n",
       "    </tr>\n",
       "    <tr>\n",
       "      <th>1</th>\n",
       "      <td>Software developer</td>\n",
       "      <td>Software developer</td>\n",
       "    </tr>\n",
       "    <tr>\n",
       "      <th>2</th>\n",
       "      <td>Occupational health and safety inspector</td>\n",
       "      <td>Marketing manager</td>\n",
       "    </tr>\n",
       "    <tr>\n",
       "      <th>3</th>\n",
       "      <td>Administration manager</td>\n",
       "      <td>Administration manager</td>\n",
       "    </tr>\n",
       "    <tr>\n",
       "      <th>4</th>\n",
       "      <td>IT support technician (including IT user helpd...</td>\n",
       "      <td>IT support technician (including IT user helpd...</td>\n",
       "    </tr>\n",
       "  </tbody>\n",
       "</table>\n",
       "</div>"
      ],
      "text/plain": [
       "                                 Labelled SSOC Title  \\\n",
       "0                                     Retail manager   \n",
       "1                                 Software developer   \n",
       "2           Occupational health and safety inspector   \n",
       "3                             Administration manager   \n",
       "4  IT support technician (including IT user helpd...   \n",
       "\n",
       "                                          Prediction  \n",
       "0                                     Retail manager  \n",
       "1                                 Software developer  \n",
       "2                                  Marketing manager  \n",
       "3                             Administration manager  \n",
       "4  IT support technician (including IT user helpd...  "
      ]
     },
     "execution_count": 39,
     "metadata": {},
     "output_type": "execute_result"
    }
   ],
   "source": [
    "combined_df_train = pd.concat([df_y_train.reset_index(drop=True), df_pred_train.reset_index(drop=True)], axis=1)\n",
    "combined_df_train.head()"
   ]
  },
  {
   "cell_type": "code",
   "execution_count": 40,
   "id": "3b3f3037-9a07-458c-9732-95bbf14f49ad",
   "metadata": {},
   "outputs": [
    {
     "data": {
      "text/plain": [
       "(1887, 2)"
      ]
     },
     "execution_count": 40,
     "metadata": {},
     "output_type": "execute_result"
    }
   ],
   "source": [
    "combined_df_train.shape"
   ]
  },
  {
   "cell_type": "code",
   "execution_count": 41,
   "id": "f636b816-c1f5-44dc-9002-89be18ff4a7a",
   "metadata": {},
   "outputs": [
    {
     "name": "stdout",
     "output_type": "stream",
     "text": [
      "Number of matches: 1417\n",
      "Number of mismatches: 470\n"
     ]
    }
   ],
   "source": [
    "combined_df_train['match'] = combined_df_train['Prediction'] == combined_df_train['Labelled SSOC Title']\n",
    "\n",
    "# Count matches and mismatches\n",
    "num_matches = combined_df_train['match'].sum()\n",
    "num_mismatches = len(combined_df_train) - num_matches\n",
    "\n",
    "print(f\"Number of matches: {num_matches}\")\n",
    "print(f\"Number of mismatches: {num_mismatches}\")"
   ]
  },
  {
   "cell_type": "markdown",
   "id": "8014092a-eba9-4a8f-87fb-97173edb5712",
   "metadata": {},
   "source": [
    "# Save as csv"
   ]
  },
  {
   "cell_type": "markdown",
   "id": "a03771d1-ebe7-4260-8009-5d918a3338e0",
   "metadata": {},
   "source": [
    "combined_df.to_csv('predictions_vs_actual.csv', index=False)"
   ]
  },
  {
   "cell_type": "markdown",
   "id": "a8a409ef-2f2a-4509-9b2f-33f1a49570b8",
   "metadata": {},
   "source": [
    "## Prediction using user input"
   ]
  },
  {
   "cell_type": "code",
   "execution_count": 45,
   "id": "56376db1-ee53-4931-83dd-97b026182a0d",
   "metadata": {},
   "outputs": [],
   "source": [
    "def predict_ssoc(job_title):                                #Inference\n",
    "    job_vec = vectorizer.transform([job_title])\n",
    "    predicted_ssoc = clf.predict(job_vec)[0]\n",
    "    return predicted_ssoc"
   ]
  },
  {
   "cell_type": "markdown",
   "id": "c822a7ac-62b9-4704-bab4-5ccbeb03a8a5",
   "metadata": {},
   "source": [
    "**User input**"
   ]
  },
  {
   "cell_type": "code",
   "execution_count": 47,
   "id": "b7f73e09-6a0d-4848-9653-8d9a918e98c7",
   "metadata": {},
   "outputs": [],
   "source": [
    "user_input = 'data scientist'"
   ]
  },
  {
   "cell_type": "code",
   "execution_count": 48,
   "id": "9d6fb357-bcd0-4479-b115-f6f134a41f3a",
   "metadata": {},
   "outputs": [
    {
     "name": "stdout",
     "output_type": "stream",
     "text": [
      "Job title User input: data scientist\n",
      "Predicted Labelled SSOC: Data scientist\n"
     ]
    }
   ],
   "source": [
    "print(\"Job title User input:\", user_input)\n",
    "print(\"Predicted Labelled SSOC:\",predict_ssoc(user_input))      #predict labelled SSOC"
   ]
  },
  {
   "cell_type": "markdown",
   "id": "f29f7420-3d89-4c08-af4f-656fa0da949f",
   "metadata": {},
   "source": [
    "**Show labelled SSOC**"
   ]
  },
  {
   "cell_type": "code",
   "execution_count": 50,
   "id": "be6b9c31-fe5b-4007-bc26-ebc8049c34b2",
   "metadata": {},
   "outputs": [
    {
     "data": {
      "text/html": [
       "<div>\n",
       "<style scoped>\n",
       "    .dataframe tbody tr th:only-of-type {\n",
       "        vertical-align: middle;\n",
       "    }\n",
       "\n",
       "    .dataframe tbody tr th {\n",
       "        vertical-align: top;\n",
       "    }\n",
       "\n",
       "    .dataframe thead th {\n",
       "        text-align: right;\n",
       "    }\n",
       "</style>\n",
       "<table border=\"1\" class=\"dataframe\">\n",
       "  <thead>\n",
       "    <tr style=\"text-align: right;\">\n",
       "      <th></th>\n",
       "      <th>Labelled SSOC</th>\n",
       "      <th>Labelled SSOC Title</th>\n",
       "    </tr>\n",
       "  </thead>\n",
       "  <tbody>\n",
       "    <tr>\n",
       "      <th>93</th>\n",
       "      <td>21222</td>\n",
       "      <td>Data scientist</td>\n",
       "    </tr>\n",
       "  </tbody>\n",
       "</table>\n",
       "</div>"
      ],
      "text/plain": [
       "    Labelled SSOC Labelled SSOC Title\n",
       "93          21222      Data scientist"
      ]
     },
     "execution_count": 50,
     "metadata": {},
     "output_type": "execute_result"
    }
   ],
   "source": [
    "result = new_table[new_table['Labelled SSOC Title'] == predict_ssoc(user_input)]\n",
    "result"
   ]
  }
 ],
 "metadata": {
  "kernelspec": {
   "display_name": "Python 3 (ipykernel)",
   "language": "python",
   "name": "python3"
  },
  "language_info": {
   "codemirror_mode": {
    "name": "ipython",
    "version": 3
   },
   "file_extension": ".py",
   "mimetype": "text/x-python",
   "name": "python",
   "nbconvert_exporter": "python",
   "pygments_lexer": "ipython3",
   "version": "3.11.9"
  }
 },
 "nbformat": 4,
 "nbformat_minor": 5
}
